{
 "cells": [
  {
   "cell_type": "markdown",
   "id": "67d6fcfd",
   "metadata": {},
   "source": [
    "###  AI powered Financial Chatbot Prototype "
   ]
  },
  {
   "cell_type": "markdown",
   "id": "36e384f9",
   "metadata": {},
   "source": [
    "<ol type=\"1\">\n",
    "    <li> What is the total revenue?</li>\n",
    "    <li> What is the Net Income?</li>\n",
    "    <li> What is the sum of total assets?</li>\n",
    "    <li> What is the sum of total liabilities?</li>\n",
    "    <li> What is cash flow from operating activities?</li>\n",
    "    <li> What is the revenue growth(%) ?</li>\n",
    "    <li> What is the net income growth(%) ?</li>\n",
    "    <li> What is the assets growth(%) ?</li>\n",
    "    <li> What is the liabilities growth(%) ?</li>\n",
    "    <li> What is the cash flow from operations growth(%) ?</li>\n",
    "    <li> What is the year by year average revenue growth rate(%)?</li>\n",
    "    <li> What is the year by year average net income growth rate(%)?</li>\n",
    "    <li> What is the year by year average assets growth rate(%)?</li>  \n",
    "    <li> What is the year by year average liabilities growth rate(%)?</li>\n",
    "    <li> What is the year by year average cash flow from operations growth rate(%)?</li>\n",
    "</ol>"
   ]
  },
  {
   "cell_type": "code",
   "execution_count": 11,
   "id": "f582bf8a",
   "metadata": {},
   "outputs": [],
   "source": [
    "import pandas as pd\n",
    "data = pd.read_csv('final_data_report.csv')\n",
    "data_2 = pd.read_csv('reportSummary.csv')"
   ]
  },
  {
   "cell_type": "code",
   "execution_count": 13,
   "id": "f10ccc78",
   "metadata": {},
   "outputs": [
    {
     "data": {
      "text/html": [
       "<div>\n",
       "<style scoped>\n",
       "    .dataframe tbody tr th:only-of-type {\n",
       "        vertical-align: middle;\n",
       "    }\n",
       "\n",
       "    .dataframe tbody tr th {\n",
       "        vertical-align: top;\n",
       "    }\n",
       "\n",
       "    .dataframe thead th {\n",
       "        text-align: right;\n",
       "    }\n",
       "</style>\n",
       "<table border=\"1\" class=\"dataframe\">\n",
       "  <thead>\n",
       "    <tr style=\"text-align: right;\">\n",
       "      <th></th>\n",
       "      <th>Unnamed: 0</th>\n",
       "      <th>Year</th>\n",
       "      <th>Total Revenue</th>\n",
       "      <th>Net Income</th>\n",
       "      <th>Total Assets</th>\n",
       "      <th>Total Liabilities</th>\n",
       "      <th>Cash Flow from Operating Activities</th>\n",
       "      <th>Company</th>\n",
       "      <th>Revenue Growth (%)</th>\n",
       "      <th>Net Income Growth (%)</th>\n",
       "      <th>Assets Growth (%)</th>\n",
       "      <th>Liabilities Growth (%)</th>\n",
       "      <th>Cash Flow from Operations Growth(%)</th>\n",
       "    </tr>\n",
       "  </thead>\n",
       "  <tbody>\n",
       "    <tr>\n",
       "      <th>0</th>\n",
       "      <td>0</td>\n",
       "      <td>2024</td>\n",
       "      <td>245122</td>\n",
       "      <td>88136</td>\n",
       "      <td>512163</td>\n",
       "      <td>243686</td>\n",
       "      <td>118584</td>\n",
       "      <td>Microsoft</td>\n",
       "      <td>0.000000</td>\n",
       "      <td>0.000000</td>\n",
       "      <td>0.000000</td>\n",
       "      <td>0.000000</td>\n",
       "      <td>0.000000</td>\n",
       "    </tr>\n",
       "    <tr>\n",
       "      <th>1</th>\n",
       "      <td>1</td>\n",
       "      <td>2023</td>\n",
       "      <td>211915</td>\n",
       "      <td>72361</td>\n",
       "      <td>411976</td>\n",
       "      <td>205753</td>\n",
       "      <td>87582</td>\n",
       "      <td>Microsoft</td>\n",
       "      <td>-13.547132</td>\n",
       "      <td>-17.898475</td>\n",
       "      <td>-19.561546</td>\n",
       "      <td>-15.566344</td>\n",
       "      <td>-26.143493</td>\n",
       "    </tr>\n",
       "    <tr>\n",
       "      <th>2</th>\n",
       "      <td>2</td>\n",
       "      <td>2022</td>\n",
       "      <td>198270</td>\n",
       "      <td>72738</td>\n",
       "      <td>364840</td>\n",
       "      <td>198298</td>\n",
       "      <td>89035</td>\n",
       "      <td>Microsoft</td>\n",
       "      <td>-6.438902</td>\n",
       "      <td>0.520999</td>\n",
       "      <td>-11.441443</td>\n",
       "      <td>-3.623276</td>\n",
       "      <td>1.659017</td>\n",
       "    </tr>\n",
       "    <tr>\n",
       "      <th>3</th>\n",
       "      <td>3</td>\n",
       "      <td>2023</td>\n",
       "      <td>96773</td>\n",
       "      <td>14974</td>\n",
       "      <td>106618</td>\n",
       "      <td>43009</td>\n",
       "      <td>13256</td>\n",
       "      <td>Tesla</td>\n",
       "      <td>0.000000</td>\n",
       "      <td>0.000000</td>\n",
       "      <td>0.000000</td>\n",
       "      <td>0.000000</td>\n",
       "      <td>0.000000</td>\n",
       "    </tr>\n",
       "    <tr>\n",
       "      <th>4</th>\n",
       "      <td>4</td>\n",
       "      <td>2022</td>\n",
       "      <td>81462</td>\n",
       "      <td>12556</td>\n",
       "      <td>82338</td>\n",
       "      <td>36440</td>\n",
       "      <td>14724</td>\n",
       "      <td>Tesla</td>\n",
       "      <td>-15.821562</td>\n",
       "      <td>-16.147990</td>\n",
       "      <td>-22.772890</td>\n",
       "      <td>-15.273547</td>\n",
       "      <td>11.074231</td>\n",
       "    </tr>\n",
       "    <tr>\n",
       "      <th>5</th>\n",
       "      <td>5</td>\n",
       "      <td>2021</td>\n",
       "      <td>53821</td>\n",
       "      <td>5519</td>\n",
       "      <td>62131</td>\n",
       "      <td>30548</td>\n",
       "      <td>11497</td>\n",
       "      <td>Tesla</td>\n",
       "      <td>-33.931158</td>\n",
       "      <td>-56.044919</td>\n",
       "      <td>-24.541524</td>\n",
       "      <td>-16.169045</td>\n",
       "      <td>-21.916599</td>\n",
       "    </tr>\n",
       "    <tr>\n",
       "      <th>6</th>\n",
       "      <td>6</td>\n",
       "      <td>2024</td>\n",
       "      <td>391035</td>\n",
       "      <td>93736</td>\n",
       "      <td>364980</td>\n",
       "      <td>308030</td>\n",
       "      <td>26102</td>\n",
       "      <td>Apple</td>\n",
       "      <td>0.000000</td>\n",
       "      <td>0.000000</td>\n",
       "      <td>0.000000</td>\n",
       "      <td>0.000000</td>\n",
       "      <td>0.000000</td>\n",
       "    </tr>\n",
       "    <tr>\n",
       "      <th>7</th>\n",
       "      <td>7</td>\n",
       "      <td>2023</td>\n",
       "      <td>383285</td>\n",
       "      <td>96995</td>\n",
       "      <td>352583</td>\n",
       "      <td>290437</td>\n",
       "      <td>18679</td>\n",
       "      <td>Apple</td>\n",
       "      <td>-1.981920</td>\n",
       "      <td>3.476786</td>\n",
       "      <td>-3.396624</td>\n",
       "      <td>-5.711457</td>\n",
       "      <td>-28.438434</td>\n",
       "    </tr>\n",
       "    <tr>\n",
       "      <th>8</th>\n",
       "      <td>8</td>\n",
       "      <td>2022</td>\n",
       "      <td>394328</td>\n",
       "      <td>99803</td>\n",
       "      <td>352755</td>\n",
       "      <td>302083</td>\n",
       "      <td>19573</td>\n",
       "      <td>Apple</td>\n",
       "      <td>2.881146</td>\n",
       "      <td>2.894995</td>\n",
       "      <td>0.048783</td>\n",
       "      <td>4.009820</td>\n",
       "      <td>4.786123</td>\n",
       "    </tr>\n",
       "  </tbody>\n",
       "</table>\n",
       "</div>"
      ],
      "text/plain": [
       "   Unnamed: 0  Year  Total Revenue  Net Income  Total Assets  \\\n",
       "0           0  2024         245122       88136        512163   \n",
       "1           1  2023         211915       72361        411976   \n",
       "2           2  2022         198270       72738        364840   \n",
       "3           3  2023          96773       14974        106618   \n",
       "4           4  2022          81462       12556         82338   \n",
       "5           5  2021          53821        5519         62131   \n",
       "6           6  2024         391035       93736        364980   \n",
       "7           7  2023         383285       96995        352583   \n",
       "8           8  2022         394328       99803        352755   \n",
       "\n",
       "   Total Liabilities  Cash Flow from Operating Activities    Company  \\\n",
       "0             243686                               118584  Microsoft   \n",
       "1             205753                                87582  Microsoft   \n",
       "2             198298                                89035  Microsoft   \n",
       "3              43009                                13256      Tesla   \n",
       "4              36440                                14724      Tesla   \n",
       "5              30548                                11497      Tesla   \n",
       "6             308030                                26102      Apple   \n",
       "7             290437                                18679      Apple   \n",
       "8             302083                                19573      Apple   \n",
       "\n",
       "   Revenue Growth (%)  Net Income Growth (%)  Assets Growth (%)  \\\n",
       "0            0.000000               0.000000           0.000000   \n",
       "1          -13.547132             -17.898475         -19.561546   \n",
       "2           -6.438902               0.520999         -11.441443   \n",
       "3            0.000000               0.000000           0.000000   \n",
       "4          -15.821562             -16.147990         -22.772890   \n",
       "5          -33.931158             -56.044919         -24.541524   \n",
       "6            0.000000               0.000000           0.000000   \n",
       "7           -1.981920               3.476786          -3.396624   \n",
       "8            2.881146               2.894995           0.048783   \n",
       "\n",
       "   Liabilities Growth (%)  Cash Flow from Operations Growth(%)  \n",
       "0                0.000000                             0.000000  \n",
       "1              -15.566344                           -26.143493  \n",
       "2               -3.623276                             1.659017  \n",
       "3                0.000000                             0.000000  \n",
       "4              -15.273547                            11.074231  \n",
       "5              -16.169045                           -21.916599  \n",
       "6                0.000000                             0.000000  \n",
       "7               -5.711457                           -28.438434  \n",
       "8                4.009820                             4.786123  "
      ]
     },
     "execution_count": 13,
     "metadata": {},
     "output_type": "execute_result"
    }
   ],
   "source": [
    "data"
   ]
  },
  {
   "cell_type": "code",
   "execution_count": 17,
   "id": "a612fc8d",
   "metadata": {
    "scrolled": true
   },
   "outputs": [
    {
     "name": "stdout",
     "output_type": "stream",
     "text": [
      "Year by Year Average Growth\n"
     ]
    },
    {
     "data": {
      "text/html": [
       "<div>\n",
       "<style scoped>\n",
       "    .dataframe tbody tr th:only-of-type {\n",
       "        vertical-align: middle;\n",
       "    }\n",
       "\n",
       "    .dataframe tbody tr th {\n",
       "        vertical-align: top;\n",
       "    }\n",
       "\n",
       "    .dataframe thead th {\n",
       "        text-align: right;\n",
       "    }\n",
       "</style>\n",
       "<table border=\"1\" class=\"dataframe\">\n",
       "  <thead>\n",
       "    <tr style=\"text-align: right;\">\n",
       "      <th></th>\n",
       "      <th>Unnamed: 0</th>\n",
       "      <th>Company</th>\n",
       "      <th>Revenue Growth (%)</th>\n",
       "      <th>Net Income Growth (%)</th>\n",
       "      <th>Assets Growth (%)</th>\n",
       "      <th>Liabilities Growth (%)</th>\n",
       "      <th>Cash Flow from Operations Growth(%)</th>\n",
       "    </tr>\n",
       "  </thead>\n",
       "  <tbody>\n",
       "    <tr>\n",
       "      <th>0</th>\n",
       "      <td>0</td>\n",
       "      <td>Apple</td>\n",
       "      <td>0.299742</td>\n",
       "      <td>2.123927</td>\n",
       "      <td>-1.115947</td>\n",
       "      <td>-0.567212</td>\n",
       "      <td>-7.884103</td>\n",
       "    </tr>\n",
       "    <tr>\n",
       "      <th>1</th>\n",
       "      <td>1</td>\n",
       "      <td>Microsoft</td>\n",
       "      <td>-6.662011</td>\n",
       "      <td>-5.792492</td>\n",
       "      <td>-10.334330</td>\n",
       "      <td>-6.396540</td>\n",
       "      <td>-8.161492</td>\n",
       "    </tr>\n",
       "    <tr>\n",
       "      <th>2</th>\n",
       "      <td>2</td>\n",
       "      <td>Tesla</td>\n",
       "      <td>-16.584240</td>\n",
       "      <td>-24.064303</td>\n",
       "      <td>-15.771471</td>\n",
       "      <td>-10.480864</td>\n",
       "      <td>-3.614123</td>\n",
       "    </tr>\n",
       "  </tbody>\n",
       "</table>\n",
       "</div>"
      ],
      "text/plain": [
       "   Unnamed: 0    Company  Revenue Growth (%)  Net Income Growth (%)  \\\n",
       "0           0      Apple            0.299742               2.123927   \n",
       "1           1  Microsoft           -6.662011              -5.792492   \n",
       "2           2      Tesla          -16.584240             -24.064303   \n",
       "\n",
       "   Assets Growth (%)  Liabilities Growth (%)  \\\n",
       "0          -1.115947               -0.567212   \n",
       "1         -10.334330               -6.396540   \n",
       "2         -15.771471              -10.480864   \n",
       "\n",
       "   Cash Flow from Operations Growth(%)  \n",
       "0                            -7.884103  \n",
       "1                            -8.161492  \n",
       "2                            -3.614123  "
      ]
     },
     "execution_count": 17,
     "metadata": {},
     "output_type": "execute_result"
    }
   ],
   "source": [
    "print(\"Year by Year Average Growth\")\n",
    "data_2"
   ]
  },
  {
   "cell_type": "markdown",
   "id": "23ca8ac5-8918-420e-8d3f-2de6152171d0",
   "metadata": {},
   "source": [
    " From the website, for microsoft and Apple, 2024, 2023 and 2022 data is available. For Tesla, 2023, 2022 and 2021 data is available. "
   ]
  },
  {
   "cell_type": "code",
   "execution_count": 30,
   "id": "6da2fe38",
   "metadata": {},
   "outputs": [
    {
     "name": "stdout",
     "output_type": "stream",
     "text": [
      "----------------------------------------------------------------------------\n"
     ]
    },
    {
     "name": "stdin",
     "output_type": "stream",
     "text": [
      "\n",
      "Enter Hi to start the chatbot session; type 'exit' to quit):  hi\n"
     ]
    },
    {
     "name": "stdout",
     "output_type": "stream",
     "text": [
      "\n",
      "Hello! Welcome to AI Driven Financial Chatbot!!!\n",
      "\n",
      "I can help you with your financial queries\n",
      "Please select the company name from below: -\n",
      "\n",
      "1.Microsoft \n",
      "2.Tesla \n",
      "3.Apple\n"
     ]
    },
    {
     "name": "stdin",
     "output_type": "stream",
     "text": [
      "Enter company name :  Microsoft\n"
     ]
    },
    {
     "name": "stdout",
     "output_type": "stream",
     "text": [
      "\n",
      "The data for the fiscal years 2024, 2023, 2022 is currently available.\n"
     ]
    },
    {
     "name": "stdin",
     "output_type": "stream",
     "text": [
      "Enter the fiscal year for the selected company:  2024\n"
     ]
    },
    {
     "name": "stdout",
     "output_type": "stream",
     "text": [
      "\n",
      "Please enter your query\n"
     ]
    },
    {
     "name": "stdin",
     "output_type": "stream",
     "text": [
      " What is the sum of total assets?\n"
     ]
    },
    {
     "name": "stdout",
     "output_type": "stream",
     "text": [
      "The sum of Total Assets for Microsoft for fiscal year 2024 is $ 512163\n",
      "----------------------------------------------------------------------------\n"
     ]
    },
    {
     "name": "stdin",
     "output_type": "stream",
     "text": [
      "\n",
      "Enter Hi to start the chatbot session; type 'exit' to quit):  exit\n"
     ]
    }
   ],
   "source": [
    "%run AI_driven_Financial_ChatBot_Prototype.py"
   ]
  },
  {
   "cell_type": "code",
   "execution_count": 32,
   "id": "38ab1d8f",
   "metadata": {},
   "outputs": [
    {
     "name": "stdout",
     "output_type": "stream",
     "text": [
      "----------------------------------------------------------------------------\n"
     ]
    },
    {
     "name": "stdin",
     "output_type": "stream",
     "text": [
      "\n",
      "Enter Hi to start the chatbot session; type 'exit' to quit):  wow grapes\n"
     ]
    },
    {
     "name": "stdout",
     "output_type": "stream",
     "text": [
      "Enter 'Hi' properly by starting the chatbot session again.\n"
     ]
    }
   ],
   "source": [
    "%run AI_driven_Financial_ChatBot_Prototype.py"
   ]
  },
  {
   "cell_type": "code",
   "execution_count": 34,
   "id": "94c9acff",
   "metadata": {},
   "outputs": [
    {
     "name": "stdout",
     "output_type": "stream",
     "text": [
      "----------------------------------------------------------------------------\n"
     ]
    },
    {
     "name": "stdin",
     "output_type": "stream",
     "text": [
      "\n",
      "Enter Hi to start the chatbot session; type 'exit' to quit):  hi\n"
     ]
    },
    {
     "name": "stdout",
     "output_type": "stream",
     "text": [
      "\n",
      "Hello! Welcome to AI Driven Financial Chatbot!!!\n",
      "\n",
      "I can help you with your financial queries\n",
      "Please select the company name from below: -\n",
      "\n",
      "1.Microsoft \n",
      "2.Tesla \n",
      "3.Apple\n"
     ]
    },
    {
     "name": "stdin",
     "output_type": "stream",
     "text": [
      "Enter company name :  Tesla\n"
     ]
    },
    {
     "name": "stdout",
     "output_type": "stream",
     "text": [
      "\n",
      "The data for the fiscal years 2023, 2022, 2021 is currently available.\n"
     ]
    },
    {
     "name": "stdin",
     "output_type": "stream",
     "text": [
      "Enter the fiscal year for the selected company:  2023\n"
     ]
    },
    {
     "name": "stdout",
     "output_type": "stream",
     "text": [
      "\n",
      "Please enter your query\n"
     ]
    },
    {
     "name": "stdin",
     "output_type": "stream",
     "text": [
      " What is cash flow from operating activities?\n"
     ]
    },
    {
     "name": "stdout",
     "output_type": "stream",
     "text": [
      "The Cash Flow from Operating Activities for Tesla for fiscal year 2023 is $ 13256\n",
      "----------------------------------------------------------------------------\n"
     ]
    },
    {
     "name": "stdin",
     "output_type": "stream",
     "text": [
      "\n",
      "Enter Hi to start the chatbot session; type 'exit' to quit):  hi\n"
     ]
    },
    {
     "name": "stdout",
     "output_type": "stream",
     "text": [
      "\n",
      "Hello! Welcome to AI Driven Financial Chatbot!!!\n",
      "\n",
      "I can help you with your financial queries\n",
      "Please select the company name from below: -\n",
      "\n",
      "1.Microsoft \n",
      "2.Tesla \n",
      "3.Apple\n"
     ]
    },
    {
     "name": "stdin",
     "output_type": "stream",
     "text": [
      "Enter company name :  Apple\n"
     ]
    },
    {
     "name": "stdout",
     "output_type": "stream",
     "text": [
      "\n",
      "The data for the fiscal years 2024, 2023, 2022 is currently available.\n"
     ]
    },
    {
     "name": "stdin",
     "output_type": "stream",
     "text": [
      "Enter the fiscal year for the selected company:  2024\n"
     ]
    },
    {
     "name": "stdout",
     "output_type": "stream",
     "text": [
      "\n",
      "Please enter your query\n"
     ]
    },
    {
     "name": "stdin",
     "output_type": "stream",
     "text": [
      " What is the year by year average cash flow from operations growth rate(%)?\n"
     ]
    },
    {
     "name": "stdout",
     "output_type": "stream",
     "text": [
      "The Year By Year Average Cash Flow from Operations Growth Rate(%) from 2021 to 2023 for Apple is -7.8841(%)\n",
      "----------------------------------------------------------------------------\n"
     ]
    },
    {
     "name": "stdin",
     "output_type": "stream",
     "text": [
      "\n",
      "Enter Hi to start the chatbot session; type 'exit' to quit):  byee\n"
     ]
    },
    {
     "name": "stdout",
     "output_type": "stream",
     "text": [
      "Enter 'Hi' properly by starting the chatbot session again.\n"
     ]
    }
   ],
   "source": [
    "%run AI_driven_Financial_ChatBot_Prototype.py"
   ]
  },
  {
   "cell_type": "code",
   "execution_count": null,
   "id": "e1d56ef6",
   "metadata": {},
   "outputs": [],
   "source": []
  }
 ],
 "metadata": {
  "kernelspec": {
   "display_name": "Python 3 (ipykernel)",
   "language": "python",
   "name": "python3"
  },
  "language_info": {
   "codemirror_mode": {
    "name": "ipython",
    "version": 3
   },
   "file_extension": ".py",
   "mimetype": "text/x-python",
   "name": "python",
   "nbconvert_exporter": "python",
   "pygments_lexer": "ipython3",
   "version": "3.11.5"
  }
 },
 "nbformat": 4,
 "nbformat_minor": 5
}
